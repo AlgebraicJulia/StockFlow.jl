{
 "cells": [
  {
   "cell_type": "code",
   "execution_count": null,
   "id": "296f433c-2829-4dd6-b912-dd40b33486cc",
   "metadata": {},
   "outputs": [],
   "source": [
    "using Pkg; Pkg.activate(\"../../..\")"
   ]
  },
  {
   "cell_type": "code",
   "execution_count": null,
   "id": "18b6f788-a3f4-4d23-8a10-d485765c069d",
   "metadata": {},
   "outputs": [],
   "source": [
    "using StockFlow\n",
    "using StockFlow.Syntax\n",
    "using StockFlow.PremadeModels"
   ]
  },
  {
   "cell_type": "code",
   "execution_count": null,
   "id": "55b7d7c5-71e7-43ae-b638-43610f55e706",
   "metadata": {},
   "outputs": [],
   "source": [
    "GraphCL(convertToCausalLoop(seir()))"
   ]
  },
  {
   "cell_type": "code",
   "execution_count": null,
   "id": "43f3518f-02b2-45de-8feb-e638a7fd6961",
   "metadata": {},
   "outputs": [],
   "source": [
    "C2 = CausalLoopPM([:C2], [:C2 => :C2 for _ in 1:5], [POL_NEGATIVE, POL_POSITIVE, POL_NEGATIVE, POL_POSITIVE, POL_NEGATIVE])"
   ]
  },
  {
   "cell_type": "code",
   "execution_count": null,
   "id": "bd634359-6944-4d5b-9553-6bafc701c511",
   "metadata": {},
   "outputs": [],
   "source": [
    "C2′ = @causal_loop begin\n",
    "    :nodes\n",
    "    C2\n",
    "    :edges\n",
    "    C2 => -C2\n",
    "    C2 => +C2\n",
    "    C2 => -C2\n",
    "    C2 => +C2\n",
    "    C2 => -C2\n",
    "end;"
   ]
  },
  {
   "cell_type": "code",
   "execution_count": null,
   "id": "4fd14532-d369-4b97-b6da-1d59827a7b00",
   "metadata": {},
   "outputs": [],
   "source": [
    "C2′′ = (@cl C2 => -C2, C2 => +C2, C2 => -C2, C2 => +C2, C2 => -C2);"
   ]
  },
  {
   "cell_type": "code",
   "execution_count": null,
   "id": "1a509f1a-f74f-4139-9831-367133f6b644",
   "metadata": {},
   "outputs": [],
   "source": [
    "C2 == C2′ == C2′′"
   ]
  },
  {
   "cell_type": "code",
   "execution_count": null,
   "id": "a8bc304f-fd50-48c8-8ddb-84ce3c57d499",
   "metadata": {},
   "outputs": [],
   "source": [
    "GraphCL(C2)"
   ]
  },
  {
   "cell_type": "code",
   "execution_count": null,
   "id": "65452ef7-810a-4807-a9ff-91fbead56f8b",
   "metadata": {},
   "outputs": [],
   "source": [
    "GraphRB(C2)"
   ]
  },
  {
   "cell_type": "code",
   "execution_count": null,
   "id": "be1ee08d-1a1d-4e38-8902-5ee94551e652",
   "metadata": {},
   "outputs": [],
   "source": [
    "CL_ABC = @cl A => +B, B => +C, C => -A, D"
   ]
  },
  {
   "cell_type": "code",
   "execution_count": null,
   "id": "11e184c2-e681-4483-b3cf-aff7deebe541",
   "metadata": {},
   "outputs": [],
   "source": [
    "GraphCL(CL_ABC)"
   ]
  },
  {
   "cell_type": "code",
   "execution_count": null,
   "id": "fc589a21-10cb-446f-bee8-b49967997801",
   "metadata": {},
   "outputs": [],
   "source": [
    "GraphRB(CL_ABC)"
   ]
  },
  {
   "cell_type": "code",
   "execution_count": null,
   "id": "698e98af-4847-4fed-b880-f93df2ee03f7",
   "metadata": {},
   "outputs": [],
   "source": [
    "nvert(CL_ABC)"
   ]
  },
  {
   "cell_type": "code",
   "execution_count": null,
   "id": "ca18f020-48ad-4d61-9ac9-f68369b97a1d",
   "metadata": {},
   "outputs": [],
   "source": [
    "nedges(CL_ABC)"
   ]
  },
  {
   "cell_type": "code",
   "execution_count": null,
   "id": "cac3cba1-1397-42c7-8656-c56d2c9cc84a",
   "metadata": {},
   "outputs": [],
   "source": [
    "np(CL_ABC)"
   ]
  },
  {
   "cell_type": "code",
   "execution_count": null,
   "id": "a5e354ce-cc14-407c-a21a-c5a98b4fd85e",
   "metadata": {},
   "outputs": [],
   "source": [
    "nm(CL_ABC)"
   ]
  },
  {
   "cell_type": "code",
   "execution_count": null,
   "id": "7dd07c6e-d46f-4c0a-b514-21adbb1b23e7",
   "metadata": {},
   "outputs": [],
   "source": [
    "sedge(CL_ABC, 3) # Source node for edge 3, which is C => A, is C, which is index 3"
   ]
  },
  {
   "cell_type": "code",
   "execution_count": null,
   "id": "69240659-b9ed-48d2-befd-3d459a752d3d",
   "metadata": {},
   "outputs": [],
   "source": [
    "tedge(CL_ABC, 3) # C => A, target is A, with index 1"
   ]
  },
  {
   "cell_type": "code",
   "execution_count": null,
   "id": "d50862a1-d8bb-44e7-9b7c-44bb9252a7a0",
   "metadata": {},
   "outputs": [],
   "source": [
    "vnames(CL_ABC)"
   ]
  },
  {
   "cell_type": "code",
   "execution_count": null,
   "id": "ca36df44-8984-43be-8d49-09136f8c6ea5",
   "metadata": {},
   "outputs": [],
   "source": [
    "epol(CL_ABC, 1) # Polarity of edge 1, A => B, is positive"
   ]
  },
  {
   "cell_type": "code",
   "execution_count": null,
   "id": "1b78e2eb-5064-41dc-83c3-35bd1bc5faf4",
   "metadata": {},
   "outputs": [],
   "source": [
    "epols(CL_ABC)"
   ]
  },
  {
   "cell_type": "code",
   "execution_count": null,
   "id": "d0c1886a-538a-4d5f-9eeb-a0bc043b4786",
   "metadata": {},
   "outputs": [],
   "source": [
    "outgoing_edges(CL_ABC, 1) # indices of all edges with src 1 (in this case, A)"
   ]
  },
  {
   "cell_type": "code",
   "execution_count": null,
   "id": "0c79c394-999f-417d-99b6-de06601545bf",
   "metadata": {},
   "outputs": [],
   "source": [
    "outgoing_edges(CL_ABC, 4) # D"
   ]
  },
  {
   "cell_type": "code",
   "execution_count": null,
   "id": "f3935523-6dff-4617-9485-b058ff7cba3a",
   "metadata": {},
   "outputs": [],
   "source": [
    "incoming_edges(CL_ABC, 1) # indices of all edges with src 1"
   ]
  },
  {
   "cell_type": "code",
   "execution_count": null,
   "id": "7d0c133e-93c4-471d-8179-bcfe31dedbee",
   "metadata": {},
   "outputs": [],
   "source": [
    "cl_cycles(CL_ABC)"
   ]
  },
  {
   "cell_type": "code",
   "execution_count": null,
   "id": "e41005f6-b44e-4a37-b386-6b0952abf326",
   "metadata": {},
   "outputs": [],
   "source": [
    "extract_loops(CL_ABC)"
   ]
  },
  {
   "cell_type": "code",
   "execution_count": null,
   "id": "515f3bb8-db99-4c58-bae9-96fb6b393886",
   "metadata": {},
   "outputs": [],
   "source": [
    "is_walk(CL_ABC, [1,2,3,1,2])"
   ]
  },
  {
   "cell_type": "code",
   "execution_count": null,
   "id": "b34c6118-3980-427f-94fc-40f3605e46b2",
   "metadata": {},
   "outputs": [],
   "source": [
    "is_walk(CL_ABC, [3,2])"
   ]
  },
  {
   "cell_type": "code",
   "execution_count": null,
   "id": "7dd42d1a-73f9-42df-876a-26b51a1ad96f",
   "metadata": {},
   "outputs": [],
   "source": [
    "is_walk(CL_ABC, Vector{Int}())"
   ]
  },
  {
   "cell_type": "code",
   "execution_count": null,
   "id": "9a41ed3f-4e23-48ed-860d-e238fde13938",
   "metadata": {},
   "outputs": [],
   "source": [
    "is_circuit(CL_ABC, [1,2,3])"
   ]
  },
  {
   "cell_type": "code",
   "execution_count": null,
   "id": "50926a33-55a8-4df9-a98a-d6ec088772f1",
   "metadata": {},
   "outputs": [],
   "source": [
    "is_circuit(CL_ABC, [1,2])"
   ]
  },
  {
   "cell_type": "code",
   "execution_count": null,
   "id": "d41e8642-a978-491b-bc10-62f8269623ef",
   "metadata": {},
   "outputs": [],
   "source": [
    "walk_polarity(CL_ABC, [1,2,3,1,2,3])"
   ]
  },
  {
   "cell_type": "code",
   "execution_count": null,
   "id": "cac86c9d-040d-4d6a-8f4d-612c46a6eb57",
   "metadata": {},
   "outputs": [],
   "source": [
    "extract_all_nonduplicate_paths(CL_ABC)"
   ]
  },
  {
   "cell_type": "code",
   "execution_count": null,
   "id": "24f53f85-d90e-4bd6-8cf5-0176ce06d87d",
   "metadata": {},
   "outputs": [],
   "source": [
    "num_loops_var_on(CL_ABC, :D)"
   ]
  },
  {
   "cell_type": "code",
   "execution_count": null,
   "id": "5ecc73db-b8c3-4798-bc86-d54d7119fedd",
   "metadata": {},
   "outputs": [],
   "source": [
    "num_loops_var_on(CL_ABC, :A)"
   ]
  },
  {
   "cell_type": "code",
   "execution_count": null,
   "id": "7f450c79-163a-45a9-9090-69f48f563794",
   "metadata": {},
   "outputs": [],
   "source": [
    "num_loops_var_on(C2, :C2)"
   ]
  },
  {
   "cell_type": "code",
   "execution_count": null,
   "id": "02de13aa-a99d-402e-b368-a6dc13a4b144",
   "metadata": {},
   "outputs": [],
   "source": [
    "num_indep_loops_var_on(C2, :C2) # Treating each pair of nodes as if there is at most one edge between them"
   ]
  },
  {
   "cell_type": "code",
   "execution_count": null,
   "id": "9faf3d72-d485-48e3-af61-d0515bd7914a",
   "metadata": {},
   "outputs": [],
   "source": [
    "to_graphs_graph(CL_ABC)"
   ]
  },
  {
   "cell_type": "code",
   "execution_count": null,
   "id": "639edf0a-d4ee-4ebc-a15e-7a5e7e61535e",
   "metadata": {},
   "outputs": [],
   "source": [
    "betweenness(CL_ABC)"
   ]
  },
  {
   "cell_type": "code",
   "execution_count": null,
   "id": "010d3293-faef-479b-b253-32d295c6818a",
   "metadata": {},
   "outputs": [],
   "source": [
    "to_graphs_graph(C2) # eliminates duplicate edges!"
   ]
  },
  {
   "cell_type": "code",
   "execution_count": null,
   "id": "e410e9ff-b5f8-444b-94db-0c7474ee8edc",
   "metadata": {},
   "outputs": [],
   "source": [
    "betweenness(C2)"
   ]
  },
  {
   "cell_type": "code",
   "execution_count": null,
   "id": "14a2c91c-b818-4493-8b26-cd9017be09f8",
   "metadata": {},
   "outputs": [],
   "source": [
    "num_inputs_outputs(C2) # in, out"
   ]
  },
  {
   "cell_type": "code",
   "execution_count": null,
   "id": "dddbb9cc-708f-4574-899d-7e0c70011baa",
   "metadata": {},
   "outputs": [],
   "source": [
    "num_inputs_outputs_pols(C2) # pos in, pos out, neg in, neg out"
   ]
  },
  {
   "cell_type": "code",
   "execution_count": null,
   "id": "d988c875-8cf1-4d04-b87f-4ba955fbd363",
   "metadata": {},
   "outputs": [],
   "source": [
    "all_shortest_paths(C2) "
   ]
  },
  {
   "cell_type": "code",
   "execution_count": null,
   "id": "5dd08879-22c4-4846-a314-71b733ff4d8a",
   "metadata": {},
   "outputs": [],
   "source": [
    " all_shortest_paths(@cl((A => B, B => C, C => D, A => B′, B′ => C′, C′ => D)))"
   ]
  },
  {
   "cell_type": "code",
   "execution_count": null,
   "id": "57a4ab6c-c708-4ca2-bb57-c697e4782653",
   "metadata": {},
   "outputs": [],
   "source": [
    "shortest_paths( (@cl A => B, B => C, C => D, A => B′, B′ => C′, C′ => D), :A, :D )"
   ]
  },
  {
   "cell_type": "code",
   "execution_count": null,
   "id": "40efc5d4-d003-43ed-a180-cf6385eb4aa2",
   "metadata": {},
   "outputs": [],
   "source": [
    " betweenness(@cl((A => B, B => C, C => D, A => B′, B′ => C′, C′ => D)))"
   ]
  },
  {
   "cell_type": "code",
   "execution_count": null,
   "id": "af79cfb2-bc26-48d4-a6b8-24b734f131e9",
   "metadata": {},
   "outputs": [],
   "source": [
    "all_shortest_paths(convertToCausalLoop(seir()))"
   ]
  },
  {
   "cell_type": "code",
   "execution_count": null,
   "id": "afa809b3-4c51-478b-8152-ab61aeb9d245",
   "metadata": {},
   "outputs": [],
   "source": [
    "all_shortest_paths(CL_ABC)"
   ]
  },
  {
   "cell_type": "code",
   "execution_count": null,
   "id": "dadced78-8b2d-4f21-9db1-912c477bc7f4",
   "metadata": {},
   "outputs": [],
   "source": [
    "GraphCL(CL_ABC)"
   ]
  },
  {
   "cell_type": "code",
   "execution_count": null,
   "id": "175b0ba9-6280-436a-80e1-be0708fe71f6",
   "metadata": {},
   "outputs": [],
   "source": [
    "shortest_paths(CL_ABC, :A, :C)"
   ]
  },
  {
   "cell_type": "code",
   "execution_count": null,
   "id": "1a4400c9-c0d5-4dd3-a00c-bc667aeb18f9",
   "metadata": {},
   "outputs": [],
   "source": [
    "cl = @causal_loop begin\n",
    "        :nodes\n",
    "        A\n",
    "        B\n",
    "        C\n",
    "        D\n",
    "        E\n",
    "        :edges\n",
    "        A => B\n",
    "        B => C\n",
    "        B => C\n",
    "        B => D\n",
    "        D => C\n",
    "    end;"
   ]
  },
  {
   "cell_type": "code",
   "execution_count": null,
   "id": "e9592655-9d9c-49f9-a6e1-37a7515323e0",
   "metadata": {},
   "outputs": [],
   "source": [
    "cl2 = @causal_loop begin\n",
    "        :nodes\n",
    "        A\n",
    "        B\n",
    "        C\n",
    "        D\n",
    "        E\n",
    "        :edges\n",
    "        A => B\n",
    "        B => C\n",
    "        B => D\n",
    "        D => C\n",
    "    end;"
   ]
  },
  {
   "cell_type": "code",
   "execution_count": null,
   "id": "30083505-af9c-434f-867a-1e2417ed4afc",
   "metadata": {},
   "outputs": [],
   "source": [
    "GraphCL(cl)"
   ]
  },
  {
   "cell_type": "code",
   "execution_count": null,
   "id": "eaa543fc-cf59-4756-8c7a-688baa877d7d",
   "metadata": {},
   "outputs": [],
   "source": [
    "betweenness(cl)"
   ]
  },
  {
   "cell_type": "code",
   "execution_count": null,
   "id": "473c4e7b-7599-452e-9ed4-f9f6be3eed3f",
   "metadata": {},
   "outputs": [],
   "source": [
    "betweenness(cl2)"
   ]
  },
  {
   "cell_type": "markdown",
   "id": "c002760b-9da3-4085-8fb1-f4028bdbfd4d",
   "metadata": {},
   "source": [
    "### Note, negative polarities always come after positive!"
   ]
  },
  {
   "cell_type": "code",
   "execution_count": null,
   "id": "c1d468f7-ccd3-444c-a230-fff16d959704",
   "metadata": {},
   "outputs": [],
   "source": [
    "cl_small = @cl A => -B, B => +C "
   ]
  },
  {
   "cell_type": "code",
   "execution_count": null,
   "id": "766821bc-90e5-4fc1-a222-9adc3f66a714",
   "metadata": {},
   "outputs": [],
   "source": [
    "epols(cl_small)"
   ]
  },
  {
   "cell_type": "code",
   "execution_count": null,
   "id": "7c2819ad-cfbe-43df-8ac1-869655f1ac62",
   "metadata": {},
   "outputs": [],
   "source": [
    "to_simple_cl(cl_small) == (@cl A, B => C, A => B) # Note the order!"
   ]
  },
  {
   "cell_type": "code",
   "execution_count": null,
   "id": "a110c5e1-d93c-44c9-9da4-b1d1e8087673",
   "metadata": {},
   "outputs": [],
   "source": [
    "to_simple_cl(cl_small)"
   ]
  },
  {
   "cell_type": "code",
   "execution_count": null,
   "id": "a663d5e8-a9cf-4913-becb-3d10cfbd000a",
   "metadata": {},
   "outputs": [],
   "source": [
    "using StockFlow.Syntax.Composition"
   ]
  },
  {
   "cell_type": "code",
   "execution_count": null,
   "id": "5929158c-2cdf-4542-b745-1fc00ee139e9",
   "metadata": {},
   "outputs": [],
   "source": [
    "ABC = (@cl A => B, B => C)\n",
    "BCD = (@cl B => C, C => D)\n",
    "@compose ABC BCD begin\n",
    "    (ABC, BCD)\n",
    "    (ABC, BCD) ^ B => C\n",
    "end"
   ]
  },
  {
   "cell_type": "code",
   "execution_count": null,
   "id": "df1a5746-4d2c-4ecc-95b6-8311d0347757",
   "metadata": {},
   "outputs": [],
   "source": [
    "ABC_pol = (@cl A => +B, B => -C)\n",
    "BCD_pol = (@cl B => -C, C => +D)\n",
    "@compose ABC_pol BCD_pol begin\n",
    "    (ABC, BCD)\n",
    "    (ABC, BCD) ^ B => -C\n",
    "end\n"
   ]
  }
 ],
 "metadata": {
  "kernelspec": {
   "display_name": "Julia 1.10.4",
   "language": "julia",
   "name": "julia-1.10"
  },
  "language_info": {
   "file_extension": ".jl",
   "mimetype": "application/julia",
   "name": "julia",
   "version": "1.10.4"
  }
 },
 "nbformat": 4,
 "nbformat_minor": 5
}

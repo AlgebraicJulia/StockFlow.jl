{
 "cells": [
  {
   "cell_type": "code",
   "execution_count": 1,
   "metadata": {},
   "outputs": [],
   "source": [
    "using GraphViz\n",
    "\n",
    "using StockFlow\n",
    "using StockFlow.Syntax\n",
    "\n",
    "using Catlab\n",
    "using Catlab.CategoricalAlgebra\n",
    "using LabelledArrays\n",
    "using OrdinaryDiffEq\n",
    "using Plots\n",
    "\n",
    "using Catlab.Graphics\n",
    "using Catlab.Programs\n",
    "using Catlab.Theories\n",
    "using Catlab.WiringDiagrams"
   ]
  },
  {
   "cell_type": "markdown",
   "metadata": {},
   "source": [
    "This model is re-created based on Garnett's paper:\n",
    "https://journals.lww.com/stdjournal/Fulltext/2000/11000/Epidemiology_and_Control_of_Curable_Sexually.7.aspx"
   ]
  },
  {
   "cell_type": "markdown",
   "metadata": {},
   "source": [
    "# 1. Define the components of all the sub-models\n",
    "## 1.1 The births and deaths of Stock X"
   ]
  },
  {
   "cell_type": "code",
   "execution_count": null,
   "metadata": {},
   "outputs": [],
   "source": [
    "openX = Open( \n",
    "    (@stock_and_flow begin\n",
    "\n",
    "        :stocks\n",
    "        X\n",
    "\n",
    "        :parameters\n",
    "        μ\n",
    "\n",
    "        :dynamic_variables\n",
    "        v_births = N * μ\n",
    "        v_deathX = X * μ\n",
    "\n",
    "        :flows\n",
    "        CLOUD => f_births(v_births) => X\n",
    "        X => f_deathX(v_deathX) => CLOUD\n",
    "\n",
    "        :sums\n",
    "        N = [X]\n",
    "\n",
    "        end \n",
    "    ),\n",
    "    # feet\n",
    "    foot(:X,:N,:X=>:N)\n",
    "    \n",
    ")"
   ]
  },
  {
   "cell_type": "code",
   "execution_count": null,
   "metadata": {},
   "outputs": [],
   "source": [
    "GraphF(apex(openX))"
   ]
  },
  {
   "cell_type": "markdown",
   "metadata": {},
   "source": [
    "## 1.2 The SIS sub-model structure"
   ]
  },
  {
   "cell_type": "code",
   "execution_count": null,
   "metadata": {},
   "outputs": [],
   "source": [
    "openSIS_A = Open(\n",
    "    (@stock_and_flow begin\n",
    "\n",
    "        :stocks\n",
    "        X\n",
    "        A\n",
    "\n",
    "        :parameters\n",
    "        μ_temp1 # going to compose all μ in Rewriting.  Shouldn't be necessary on params.\n",
    "        ϕ_complement\n",
    "        σ′\n",
    "        cβ\n",
    "\n",
    "        :dynamic_variables\n",
    "        v_inf₁ = cβ * NI\n",
    "        v_inf₂ = v_inf₁ / N\n",
    "        v_inf₃ = v_inf₂ * X\n",
    "        v_inf₄ = v_inf₃ * ϕ_complement\n",
    "\n",
    "        v_deathA = A * μ_temp1\n",
    "\n",
    "        :flows\n",
    "        X => f_newInfectiousA(v_inf₄) => A\n",
    "        A => f_deathA(v_deathA) => CLOUD\n",
    "        A => f_recoveryA(A * σ′) => X\n",
    "\n",
    "        :sums\n",
    "        N = [X, A]\n",
    "        NI = [A]\n",
    "\n",
    "    end\n",
    "    ),\n",
    "     # feet\n",
    "     foot(:X,:N,:X=>:N),\n",
    "     foot((),:NI,())\n",
    "\n",
    ")"
   ]
  },
  {
   "cell_type": "code",
   "execution_count": null,
   "metadata": {},
   "outputs": [],
   "source": [
    "GraphF(apex(openSIS_A))"
   ]
  },
  {
   "cell_type": "code",
   "execution_count": null,
   "metadata": {},
   "outputs": [],
   "source": [
    "openSIS_Y = Open(\n",
    "    (@stock_and_flow begin\n",
    "    \n",
    "    :stocks\n",
    "    X\n",
    "    Y\n",
    "\n",
    "    :parameters\n",
    "    μ_temp2\n",
    "    ϕ\n",
    "    σ\n",
    "    λ\n",
    "\n",
    "    :dynamic_variables\n",
    "    v_inf₄ = ϕ * λ # at present, lambda needs to come second\n",
    "    # in algebraic rewriting, position of variables matters for homomorphisms.\n",
    "    # When we later have *(ϕ), phi comes first, because it's the only variable\n",
    "    \n",
    "    v_deathY = Y * μ_temp2\n",
    "\n",
    "    :flows\n",
    "    X => f_newInfectiousY(v_inf₄) => Y\n",
    "    Y => f_deathY(v_deathY) => CLOUD\n",
    "    Y => f_recoveryY(Y * σ) => X\n",
    "\n",
    "    :sums\n",
    "    N = [X, Y]\n",
    "    NI = [Y]\n",
    "\n",
    "end\n",
    "        ),\n",
    "\n",
    "     # feet\n",
    "     foot(:X,:N,:X=>:N),\n",
    "     foot((),:NI,())\n",
    "    \n",
    ")"
   ]
  },
  {
   "cell_type": "code",
   "execution_count": null,
   "metadata": {
    "scrolled": true
   },
   "outputs": [],
   "source": [
    "GraphF(apex(openSIS_Y))"
   ]
  },
  {
   "cell_type": "markdown",
   "metadata": {},
   "source": [
    "# 2 Compose\n",
    "## 2.1 Define composition rule"
   ]
  },
  {
   "cell_type": "code",
   "execution_count": null,
   "metadata": {},
   "outputs": [],
   "source": [
    "# define the UWD-algebra\n",
    "uwd = @relation (XN,NI) begin\n",
    "    X(XN)\n",
    "    XA(XN,NI)\n",
    "    XY(XN,NI)\n",
    "end;\n",
    "display_uwd(uwd)"
   ]
  },
  {
   "cell_type": "code",
   "execution_count": null,
   "metadata": {},
   "outputs": [],
   "source": [
    "XAY_model = oapply(uwd,Dict(\n",
    "    :X=>openX,\n",
    "    :XA=>openSIS_A,\n",
    "    :XY=>openSIS_Y\n",
    "    )) |> apex\n",
    "GraphF(XAY_model)"
   ]
  },
  {
   "cell_type": "code",
   "execution_count": null,
   "metadata": {},
   "outputs": [],
   "source": [
    "XAY_model"
   ]
  },
  {
   "cell_type": "markdown",
   "metadata": {},
   "source": [
    "# 3 Rewrite"
   ]
  },
  {
   "cell_type": "code",
   "execution_count": null,
   "metadata": {},
   "outputs": [],
   "source": [
    "L = @stock_and_flow begin\n",
    "    :stocks\n",
    "    X\n",
    "    Y\n",
    "    A\n",
    "\n",
    "    :parameters\n",
    "    μ\n",
    "    μ_temp1\n",
    "    μ_temp2\n",
    "    λ\n",
    "    cβ\n",
    "    ϕ\n",
    "\n",
    "    :dynamic_variables\n",
    "    v_inf₁ = cβ * NI\n",
    "    v_inf₂ = v_inf₁ / N\n",
    "    v_inf₃ = v_inf₂ * X\n",
    "    v_inf₄ = ϕ * λ\n",
    "\n",
    "    v_deathA = A * μ_temp1\n",
    "    v_deathY = Y * μ_temp2\n",
    "\n",
    "    v_births = N * μ\n",
    "    v_deathX = X * μ\n",
    "\n",
    "    :flows\n",
    "    X => f_newInfectiousY(v_inf₄) => Y\n",
    "    Y => f_deathY(v_deathY) => CLOUD\n",
    "    A => f_deathA(v_deathA) => CLOUD\n",
    "\n",
    "    CLOUD => f_births(v_births) => X\n",
    "    X => f_deathX(v_deathX) => CLOUD\n",
    "\n",
    "\n",
    "    \n",
    "    :sums\n",
    "    N = [X,Y,A]\n",
    "    NI = [Y,A]\n",
    "    end;\n",
    "     \n"
   ]
  },
  {
   "cell_type": "code",
   "execution_count": null,
   "metadata": {},
   "outputs": [],
   "source": [
    "GraphF(L)"
   ]
  },
  {
   "cell_type": "code",
   "execution_count": null,
   "metadata": {},
   "outputs": [],
   "source": [
    "I = @stock_and_flow begin\n",
    "    :stocks\n",
    "    A\n",
    "    X\n",
    "    Y\n",
    "\n",
    "    :parameters\n",
    "    μ\n",
    "    cβ\n",
    "    ϕ\n",
    "\n",
    "    :dynamic_variables\n",
    "    v_inf₁ = cβ * NI\n",
    "    v_inf₂ = v_inf₁ / N\n",
    "    v_inf₃ = v_inf₂ * X\n",
    "    v_inf₄ = *(ϕ)\n",
    "\n",
    "\n",
    "    v_deathA = *(A)\n",
    "    v_deathY = *(Y)\n",
    "\n",
    "    v_births = N * μ\n",
    "    v_deathX = X * μ\n",
    "\n",
    "\n",
    "    \n",
    "\n",
    "\n",
    "\n",
    "    :flows\n",
    "    X => f_newInfectiousY(v_inf₄) => Y\n",
    "    Y => f_deathY(v_deathY) => CLOUD\n",
    "    A => f_deathA(v_deathA) => CLOUD\n",
    "\n",
    "    CLOUD => f_births(v_births) => X\n",
    "    X => f_deathX(v_deathX) => CLOUD\n",
    "\n",
    "\n",
    "    \n",
    "    :sums\n",
    "    N = [X,Y,A]\n",
    "    NI = [Y,A]\n",
    "    end;\n",
    "     \n",
    "\n",
    "   "
   ]
  },
  {
   "cell_type": "code",
   "execution_count": null,
   "metadata": {},
   "outputs": [],
   "source": [
    "GraphF(I)"
   ]
  },
  {
   "cell_type": "code",
   "execution_count": null,
   "metadata": {},
   "outputs": [],
   "source": [
    "R = @stock_and_flow begin\n",
    "    :stocks\n",
    "    A\n",
    "    X\n",
    "    Y\n",
    "\n",
    "    :parameters\n",
    "    μ\n",
    "    cβ\n",
    "    ϕ\n",
    "\n",
    "    :dynamic_variables\n",
    "    v_inf₁ = cβ * NI\n",
    "    v_inf₂ = v_inf₁ / N\n",
    "    v_inf₃ = v_inf₂ * X\n",
    "    v_inf₄ = ϕ * v_inf₃\n",
    "\n",
    "    v_deathA = A * μ\n",
    "    v_deathY = Y * μ\n",
    "\n",
    "    v_births = N * μ\n",
    "    v_deathX = X * μ\n",
    "\n",
    "    :flows\n",
    "    X => f_newInfectiousY(v_inf₄) => Y\n",
    "\n",
    "    Y => f_deathY(v_deathY) => CLOUD\n",
    "    A => f_deathA(v_deathA) => CLOUD\n",
    "\n",
    "    CLOUD => f_births(v_births) => X\n",
    "    X => f_deathX(v_deathX) => CLOUD\n",
    "\n",
    "\n",
    "    :sums\n",
    "    N = [X,Y,A]\n",
    "    NI = [Y,A]\n",
    "    end;\n",
    "     \n"
   ]
  },
  {
   "cell_type": "code",
   "execution_count": null,
   "metadata": {},
   "outputs": [],
   "source": [
    "GraphF(R)"
   ]
  },
  {
   "cell_type": "code",
   "execution_count": null,
   "metadata": {},
   "outputs": [],
   "source": [
    "using AlgebraicRewriting\n",
    "using AlgebraicRewriting: rewrite\n",
    "const hom = AlgebraicRewriting.homomorphism\n",
    "rule = Rule(hom(I,L), hom(I,R))"
   ]
  },
  {
   "cell_type": "code",
   "execution_count": null,
   "metadata": {},
   "outputs": [],
   "source": [
    "XAY_model_rewritten = rewrite(rule, XAY_model)"
   ]
  },
  {
   "cell_type": "code",
   "execution_count": null,
   "metadata": {},
   "outputs": [],
   "source": [
    "GraphF(XAY_model_rewritten)"
   ]
  },
  {
   "cell_type": "code",
   "execution_count": null,
   "metadata": {},
   "outputs": [],
   "source": [
    "GraphF(XAY_model_rewritten,type=\"SF\")"
   ]
  },
  {
   "cell_type": "markdown",
   "metadata": {},
   "source": [
    "# 3. Solve ODEs"
   ]
  },
  {
   "cell_type": "code",
   "execution_count": null,
   "metadata": {},
   "outputs": [],
   "source": [
    "# define values of constant parameters\n",
    "# unit: year\n",
    "p = LVector(\n",
    "    cβ=15*0.7, μ=1/15,ϕ=(0.95+0.4)/2,σ=12/4,σ′=12/4,ϕ_complement=(1.0 - ((0.95+0.4)/2))\n",
    ")\n",
    "# define initial values for stocks\n",
    "u0 = LVector(\n",
    "    X=990, A=5, Y=5\n",
    ")"
   ]
  },
  {
   "cell_type": "code",
   "execution_count": null,
   "metadata": {},
   "outputs": [],
   "source": [
    "# results are tested the same as the Anylogic model\n",
    "prob_XAY = ODEProblem(vectorfield(XAY_model_rewritten),u0,(0.0,2.0),p);\n",
    "sol = solve(prob_XAY,Tsit5(),abstol=1e-8);\n",
    "plot(sol)"
   ]
  },
  {
   "cell_type": "code",
   "execution_count": null,
   "metadata": {},
   "outputs": [],
   "source": [
    "# to have the figures plotted fix to the wider of the cells\n",
    "HTML(\"\"\"\n",
    "<style>\n",
    ".output_svg div{\n",
    "  width: 100% !important;\n",
    "  height: 100% !important;\n",
    "}\n",
    "</style>\n",
    "\"\"\")\n"
   ]
  },
  {
   "cell_type": "code",
   "execution_count": null,
   "metadata": {},
   "outputs": [],
   "source": []
  }
 ],
 "metadata": {
  "kernelspec": {
   "display_name": "Julia 1.9.1",
   "language": "julia",
   "name": "julia-1.9"
  },
  "language_info": {
   "file_extension": ".jl",
   "mimetype": "application/julia",
   "name": "julia",
   "version": "1.9.1"
  }
 },
 "nbformat": 4,
 "nbformat_minor": 2
}
